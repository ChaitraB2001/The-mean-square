{
 "cells": [
  {
   "cell_type": "code",
   "execution_count": 1,
   "metadata": {},
   "outputs": [],
   "source": [
    "# Loading required modules\n",
    "\n",
    "import pandas as pd\n",
    "import numpy as np\n",
    "from matplotlib import pyplot as pt\n",
    "import seaborn as sns\n",
    "from scipy import stats\n",
    "import statistics\n",
    "%matplotlib inline\n"
   ]
  },
  {
   "cell_type": "code",
   "execution_count": 2,
   "metadata": {},
   "outputs": [
    {
     "data": {
      "text/html": [
       "<div>\n",
       "<style scoped>\n",
       "    .dataframe tbody tr th:only-of-type {\n",
       "        vertical-align: middle;\n",
       "    }\n",
       "\n",
       "    .dataframe tbody tr th {\n",
       "        vertical-align: top;\n",
       "    }\n",
       "\n",
       "    .dataframe thead th {\n",
       "        text-align: right;\n",
       "    }\n",
       "</style>\n",
       "<table border=\"1\" class=\"dataframe\">\n",
       "  <thead>\n",
       "    <tr style=\"text-align: right;\">\n",
       "      <th></th>\n",
       "      <th>Country_Rank</th>\n",
       "      <th>Website</th>\n",
       "      <th>Trustworthiness</th>\n",
       "      <th>Avg_Daily_Visitors</th>\n",
       "      <th>Child_Safety</th>\n",
       "      <th>Avg_Daily_Pageviews</th>\n",
       "      <th>Privacy</th>\n",
       "      <th>Facebook_likes</th>\n",
       "      <th>Twitter_mentions</th>\n",
       "      <th>Google_pluses</th>\n",
       "      <th>...</th>\n",
       "      <th>Month_Average_Daily_Reach_percentage</th>\n",
       "      <th>Daily_Pageviews_percentage</th>\n",
       "      <th>Month_Average_Daily_Pageviews_percentage</th>\n",
       "      <th>Daily_Pageviews_per_user_percentage</th>\n",
       "      <th>Location</th>\n",
       "      <th>Hosted_by</th>\n",
       "      <th>Subnetworks</th>\n",
       "      <th>Registrant</th>\n",
       "      <th>Registrar</th>\n",
       "      <th>country</th>\n",
       "    </tr>\n",
       "  </thead>\n",
       "  <tbody>\n",
       "    <tr>\n",
       "      <th>0</th>\n",
       "      <td>1</td>\n",
       "      <td>www.google.com.af</td>\n",
       "      <td>Excellent</td>\n",
       "      <td>NaN</td>\n",
       "      <td>Excellent</td>\n",
       "      <td>NaN</td>\n",
       "      <td>Excellent</td>\n",
       "      <td>9</td>\n",
       "      <td>1</td>\n",
       "      <td>37</td>\n",
       "      <td>...</td>\n",
       "      <td>1.0</td>\n",
       "      <td>-5.1</td>\n",
       "      <td>12.5</td>\n",
       "      <td>-4.1</td>\n",
       "      <td>United States</td>\n",
       "      <td>Google Inc.</td>\n",
       "      <td>216.58.203.227</td>\n",
       "      <td>NaN</td>\n",
       "      <td>NaN</td>\n",
       "      <td>Afghanistan</td>\n",
       "    </tr>\n",
       "    <tr>\n",
       "      <th>1</th>\n",
       "      <td>2</td>\n",
       "      <td>www.google.com</td>\n",
       "      <td>Excellent</td>\n",
       "      <td>515 007 350</td>\n",
       "      <td>Excellent</td>\n",
       "      <td>4 192 159 833</td>\n",
       "      <td>Excellent</td>\n",
       "      <td>94.2K</td>\n",
       "      <td>11.2K</td>\n",
       "      <td>11.7M</td>\n",
       "      <td>...</td>\n",
       "      <td>-1.1</td>\n",
       "      <td>1.8</td>\n",
       "      <td>-6.3</td>\n",
       "      <td>2.1</td>\n",
       "      <td>United States</td>\n",
       "      <td>Google Inc.</td>\n",
       "      <td>216.58.194.100</td>\n",
       "      <td>DNS Admin (Google Inc.)</td>\n",
       "      <td>MARKMONITOR INC.</td>\n",
       "      <td>Afghanistan</td>\n",
       "    </tr>\n",
       "    <tr>\n",
       "      <th>2</th>\n",
       "      <td>3</td>\n",
       "      <td>www.youtube.com</td>\n",
       "      <td>Excellent</td>\n",
       "      <td>506 457 282</td>\n",
       "      <td>Excellent</td>\n",
       "      <td>2 679 159 025</td>\n",
       "      <td>Excellent</td>\n",
       "      <td>13.5K</td>\n",
       "      <td>16.5K</td>\n",
       "      <td>19.3M</td>\n",
       "      <td>...</td>\n",
       "      <td>1.8</td>\n",
       "      <td>9.7</td>\n",
       "      <td>0.5</td>\n",
       "      <td>3.8</td>\n",
       "      <td>United States</td>\n",
       "      <td>Google Inc.</td>\n",
       "      <td>172.217.2.238</td>\n",
       "      <td>DNS Admin (Google Inc.)</td>\n",
       "      <td>MARKMONITOR INC.</td>\n",
       "      <td>Afghanistan</td>\n",
       "    </tr>\n",
       "    <tr>\n",
       "      <th>3</th>\n",
       "      <td>4</td>\n",
       "      <td>www.facebook.com</td>\n",
       "      <td>Excellent</td>\n",
       "      <td>270 071 255</td>\n",
       "      <td>Good</td>\n",
       "      <td>1 082 985 733</td>\n",
       "      <td>Excellent</td>\n",
       "      <td>5.87M</td>\n",
       "      <td>64.4K</td>\n",
       "      <td>127K</td>\n",
       "      <td>...</td>\n",
       "      <td>-1.5</td>\n",
       "      <td>-8.2</td>\n",
       "      <td>-2.2</td>\n",
       "      <td>-8.2</td>\n",
       "      <td>Ireland</td>\n",
       "      <td>Facebook</td>\n",
       "      <td>31.13.73.36</td>\n",
       "      <td>Domain Administrator (Facebook, Inc.)</td>\n",
       "      <td>MARKMONITOR INC.</td>\n",
       "      <td>Afghanistan</td>\n",
       "    </tr>\n",
       "    <tr>\n",
       "      <th>4</th>\n",
       "      <td>5</td>\n",
       "      <td>www.yahoo.com</td>\n",
       "      <td>Excellent</td>\n",
       "      <td>99 572 035</td>\n",
       "      <td>Excellent</td>\n",
       "      <td>383 352 336</td>\n",
       "      <td>Excellent</td>\n",
       "      <td>17.2K</td>\n",
       "      <td>1.11K</td>\n",
       "      <td>798K</td>\n",
       "      <td>...</td>\n",
       "      <td>-0.8</td>\n",
       "      <td>-4.9</td>\n",
       "      <td>-0.5</td>\n",
       "      <td>-3.2</td>\n",
       "      <td>United States</td>\n",
       "      <td>Yahoo! Inc.</td>\n",
       "      <td>98.139.180.149, 98.139.183.24</td>\n",
       "      <td>Domain Administrator (Yahoo! Inc.)</td>\n",
       "      <td>MARKMONITOR INC.</td>\n",
       "      <td>Afghanistan</td>\n",
       "    </tr>\n",
       "  </tbody>\n",
       "</table>\n",
       "<p>5 rows × 31 columns</p>\n",
       "</div>"
      ],
      "text/plain": [
       "   Country_Rank            Website Trustworthiness Avg_Daily_Visitors  \\\n",
       "0             1  www.google.com.af       Excellent                NaN   \n",
       "1             2     www.google.com       Excellent        515 007 350   \n",
       "2             3    www.youtube.com       Excellent        506 457 282   \n",
       "3             4   www.facebook.com       Excellent        270 071 255   \n",
       "4             5      www.yahoo.com       Excellent         99 572 035   \n",
       "\n",
       "  Child_Safety Avg_Daily_Pageviews    Privacy Facebook_likes Twitter_mentions  \\\n",
       "0    Excellent                 NaN  Excellent              9                1   \n",
       "1    Excellent       4 192 159 833  Excellent          94.2K            11.2K   \n",
       "2    Excellent       2 679 159 025  Excellent          13.5K            16.5K   \n",
       "3         Good       1 082 985 733  Excellent          5.87M            64.4K   \n",
       "4    Excellent         383 352 336  Excellent          17.2K            1.11K   \n",
       "\n",
       "  Google_pluses  ... Month_Average_Daily_Reach_percentage  \\\n",
       "0            37  ...                                  1.0   \n",
       "1         11.7M  ...                                 -1.1   \n",
       "2         19.3M  ...                                  1.8   \n",
       "3          127K  ...                                 -1.5   \n",
       "4          798K  ...                                 -0.8   \n",
       "\n",
       "  Daily_Pageviews_percentage Month_Average_Daily_Pageviews_percentage  \\\n",
       "0                       -5.1                                     12.5   \n",
       "1                        1.8                                     -6.3   \n",
       "2                        9.7                                      0.5   \n",
       "3                       -8.2                                     -2.2   \n",
       "4                       -4.9                                     -0.5   \n",
       "\n",
       "  Daily_Pageviews_per_user_percentage       Location    Hosted_by  \\\n",
       "0                                -4.1  United States  Google Inc.   \n",
       "1                                 2.1  United States  Google Inc.   \n",
       "2                                 3.8  United States  Google Inc.   \n",
       "3                                -8.2        Ireland     Facebook   \n",
       "4                                -3.2  United States  Yahoo! Inc.   \n",
       "\n",
       "                     Subnetworks                             Registrant  \\\n",
       "0                 216.58.203.227                                    NaN   \n",
       "1                 216.58.194.100                DNS Admin (Google Inc.)   \n",
       "2                  172.217.2.238                DNS Admin (Google Inc.)   \n",
       "3                    31.13.73.36  Domain Administrator (Facebook, Inc.)   \n",
       "4  98.139.180.149, 98.139.183.24     Domain Administrator (Yahoo! Inc.)   \n",
       "\n",
       "          Registrar      country  \n",
       "0               NaN  Afghanistan  \n",
       "1  MARKMONITOR INC.  Afghanistan  \n",
       "2  MARKMONITOR INC.  Afghanistan  \n",
       "3  MARKMONITOR INC.  Afghanistan  \n",
       "4  MARKMONITOR INC.  Afghanistan  \n",
       "\n",
       "[5 rows x 31 columns]"
      ]
     },
     "execution_count": 2,
     "metadata": {},
     "output_type": "execute_result"
    }
   ],
   "source": [
    "# Reading the csv file into a pandas dataframe object df\n",
    "\n",
    "df = pd.read_csv('Web_Scrapped_websites.csv',encoding='iso-8859-1')\n",
    "\n",
    "# First five rows of df\n",
    "df.head()"
   ]
  },
  {
   "cell_type": "code",
   "execution_count": 3,
   "metadata": {},
   "outputs": [
    {
     "data": {
      "text/html": [
       "<div>\n",
       "<style scoped>\n",
       "    .dataframe tbody tr th:only-of-type {\n",
       "        vertical-align: middle;\n",
       "    }\n",
       "\n",
       "    .dataframe tbody tr th {\n",
       "        vertical-align: top;\n",
       "    }\n",
       "\n",
       "    .dataframe thead th {\n",
       "        text-align: right;\n",
       "    }\n",
       "</style>\n",
       "<table border=\"1\" class=\"dataframe\">\n",
       "  <thead>\n",
       "    <tr style=\"text-align: right;\">\n",
       "      <th></th>\n",
       "      <th>Country_Rank</th>\n",
       "      <th>Website</th>\n",
       "      <th>Trustworthiness</th>\n",
       "      <th>Avg_Daily_Visitors</th>\n",
       "      <th>Child_Safety</th>\n",
       "      <th>Avg_Daily_Pageviews</th>\n",
       "      <th>Privacy</th>\n",
       "      <th>Facebook_likes</th>\n",
       "      <th>Twitter_mentions</th>\n",
       "      <th>Google_pluses</th>\n",
       "      <th>...</th>\n",
       "      <th>Month_Average_Daily_Reach_percentage</th>\n",
       "      <th>Daily_Pageviews_percentage</th>\n",
       "      <th>Month_Average_Daily_Pageviews_percentage</th>\n",
       "      <th>Daily_Pageviews_per_user_percentage</th>\n",
       "      <th>Location</th>\n",
       "      <th>Hosted_by</th>\n",
       "      <th>Subnetworks</th>\n",
       "      <th>Registrant</th>\n",
       "      <th>Registrar</th>\n",
       "      <th>country</th>\n",
       "    </tr>\n",
       "  </thead>\n",
       "  <tbody>\n",
       "    <tr>\n",
       "      <th>0</th>\n",
       "      <td>1</td>\n",
       "      <td>www.google.com.af</td>\n",
       "      <td>Excellent</td>\n",
       "      <td>NaN</td>\n",
       "      <td>Excellent</td>\n",
       "      <td>NaN</td>\n",
       "      <td>Excellent</td>\n",
       "      <td>9.0</td>\n",
       "      <td>1.0</td>\n",
       "      <td>37.0</td>\n",
       "      <td>...</td>\n",
       "      <td>1.0</td>\n",
       "      <td>-5.1</td>\n",
       "      <td>12.5</td>\n",
       "      <td>-4.1</td>\n",
       "      <td>United States</td>\n",
       "      <td>Google Inc.</td>\n",
       "      <td>216.58.203.227</td>\n",
       "      <td>NaN</td>\n",
       "      <td>NaN</td>\n",
       "      <td>Afghanistan</td>\n",
       "    </tr>\n",
       "    <tr>\n",
       "      <th>1</th>\n",
       "      <td>2</td>\n",
       "      <td>www.google.com</td>\n",
       "      <td>Excellent</td>\n",
       "      <td>515007350.0</td>\n",
       "      <td>Excellent</td>\n",
       "      <td>4.192160e+09</td>\n",
       "      <td>Excellent</td>\n",
       "      <td>94200.0</td>\n",
       "      <td>11200.0</td>\n",
       "      <td>11700000.0</td>\n",
       "      <td>...</td>\n",
       "      <td>-1.1</td>\n",
       "      <td>1.8</td>\n",
       "      <td>-6.3</td>\n",
       "      <td>2.1</td>\n",
       "      <td>United States</td>\n",
       "      <td>Google Inc.</td>\n",
       "      <td>216.58.194.100</td>\n",
       "      <td>DNS Admin (Google Inc.)</td>\n",
       "      <td>MARKMONITOR INC.</td>\n",
       "      <td>Afghanistan</td>\n",
       "    </tr>\n",
       "    <tr>\n",
       "      <th>2</th>\n",
       "      <td>3</td>\n",
       "      <td>www.youtube.com</td>\n",
       "      <td>Excellent</td>\n",
       "      <td>506457282.0</td>\n",
       "      <td>Excellent</td>\n",
       "      <td>2.679159e+09</td>\n",
       "      <td>Excellent</td>\n",
       "      <td>13500.0</td>\n",
       "      <td>16500.0</td>\n",
       "      <td>19300000.0</td>\n",
       "      <td>...</td>\n",
       "      <td>1.8</td>\n",
       "      <td>9.7</td>\n",
       "      <td>0.5</td>\n",
       "      <td>3.8</td>\n",
       "      <td>United States</td>\n",
       "      <td>Google Inc.</td>\n",
       "      <td>172.217.2.238</td>\n",
       "      <td>DNS Admin (Google Inc.)</td>\n",
       "      <td>MARKMONITOR INC.</td>\n",
       "      <td>Afghanistan</td>\n",
       "    </tr>\n",
       "    <tr>\n",
       "      <th>3</th>\n",
       "      <td>4</td>\n",
       "      <td>www.facebook.com</td>\n",
       "      <td>Excellent</td>\n",
       "      <td>270071255.0</td>\n",
       "      <td>Good</td>\n",
       "      <td>1.082986e+09</td>\n",
       "      <td>Excellent</td>\n",
       "      <td>5870000.0</td>\n",
       "      <td>64400.0</td>\n",
       "      <td>127000.0</td>\n",
       "      <td>...</td>\n",
       "      <td>-1.5</td>\n",
       "      <td>-8.2</td>\n",
       "      <td>-2.2</td>\n",
       "      <td>-8.2</td>\n",
       "      <td>Ireland</td>\n",
       "      <td>Facebook</td>\n",
       "      <td>31.13.73.36</td>\n",
       "      <td>Domain Administrator (Facebook, Inc.)</td>\n",
       "      <td>MARKMONITOR INC.</td>\n",
       "      <td>Afghanistan</td>\n",
       "    </tr>\n",
       "    <tr>\n",
       "      <th>4</th>\n",
       "      <td>5</td>\n",
       "      <td>www.yahoo.com</td>\n",
       "      <td>Excellent</td>\n",
       "      <td>99572035.0</td>\n",
       "      <td>Excellent</td>\n",
       "      <td>3.833523e+08</td>\n",
       "      <td>Excellent</td>\n",
       "      <td>17200.0</td>\n",
       "      <td>1110.0</td>\n",
       "      <td>798000.0</td>\n",
       "      <td>...</td>\n",
       "      <td>-0.8</td>\n",
       "      <td>-4.9</td>\n",
       "      <td>-0.5</td>\n",
       "      <td>-3.2</td>\n",
       "      <td>United States</td>\n",
       "      <td>Yahoo! Inc.</td>\n",
       "      <td>98.139.180.149, 98.139.183.24</td>\n",
       "      <td>Domain Administrator (Yahoo! Inc.)</td>\n",
       "      <td>MARKMONITOR INC.</td>\n",
       "      <td>Afghanistan</td>\n",
       "    </tr>\n",
       "  </tbody>\n",
       "</table>\n",
       "<p>5 rows × 31 columns</p>\n",
       "</div>"
      ],
      "text/plain": [
       "   Country_Rank            Website Trustworthiness  Avg_Daily_Visitors  \\\n",
       "0             1  www.google.com.af       Excellent                 NaN   \n",
       "1             2     www.google.com       Excellent         515007350.0   \n",
       "2             3    www.youtube.com       Excellent         506457282.0   \n",
       "3             4   www.facebook.com       Excellent         270071255.0   \n",
       "4             5      www.yahoo.com       Excellent          99572035.0   \n",
       "\n",
       "  Child_Safety  Avg_Daily_Pageviews    Privacy  Facebook_likes  \\\n",
       "0    Excellent                  NaN  Excellent             9.0   \n",
       "1    Excellent         4.192160e+09  Excellent         94200.0   \n",
       "2    Excellent         2.679159e+09  Excellent         13500.0   \n",
       "3         Good         1.082986e+09  Excellent       5870000.0   \n",
       "4    Excellent         3.833523e+08  Excellent         17200.0   \n",
       "\n",
       "   Twitter_mentions  Google_pluses  ...  Month_Average_Daily_Reach_percentage  \\\n",
       "0               1.0           37.0  ...                                   1.0   \n",
       "1           11200.0     11700000.0  ...                                  -1.1   \n",
       "2           16500.0     19300000.0  ...                                   1.8   \n",
       "3           64400.0       127000.0  ...                                  -1.5   \n",
       "4            1110.0       798000.0  ...                                  -0.8   \n",
       "\n",
       "   Daily_Pageviews_percentage  Month_Average_Daily_Pageviews_percentage  \\\n",
       "0                        -5.1                                      12.5   \n",
       "1                         1.8                                      -6.3   \n",
       "2                         9.7                                       0.5   \n",
       "3                        -8.2                                      -2.2   \n",
       "4                        -4.9                                      -0.5   \n",
       "\n",
       "  Daily_Pageviews_per_user_percentage       Location    Hosted_by  \\\n",
       "0                                -4.1  United States  Google Inc.   \n",
       "1                                 2.1  United States  Google Inc.   \n",
       "2                                 3.8  United States  Google Inc.   \n",
       "3                                -8.2        Ireland     Facebook   \n",
       "4                                -3.2  United States  Yahoo! Inc.   \n",
       "\n",
       "                     Subnetworks                             Registrant  \\\n",
       "0                 216.58.203.227                                    NaN   \n",
       "1                 216.58.194.100                DNS Admin (Google Inc.)   \n",
       "2                  172.217.2.238                DNS Admin (Google Inc.)   \n",
       "3                    31.13.73.36  Domain Administrator (Facebook, Inc.)   \n",
       "4  98.139.180.149, 98.139.183.24     Domain Administrator (Yahoo! Inc.)   \n",
       "\n",
       "          Registrar      country  \n",
       "0               NaN  Afghanistan  \n",
       "1  MARKMONITOR INC.  Afghanistan  \n",
       "2  MARKMONITOR INC.  Afghanistan  \n",
       "3  MARKMONITOR INC.  Afghanistan  \n",
       "4  MARKMONITOR INC.  Afghanistan  \n",
       "\n",
       "[5 rows x 31 columns]"
      ]
     },
     "execution_count": 3,
     "metadata": {},
     "output_type": "execute_result"
    }
   ],
   "source": [
    "#cleaing the data\n",
    "\n",
    "#gruoping similar columns to perform similar operation\n",
    "\n",
    "\n",
    "social_media=[\"Facebook_likes\",\"Twitter_mentions\",\"Google_pluses\",\"LinkedIn_mentions\",\"Pinterest_pins\",\"StumbleUpon_views\"]\n",
    "for i in social_media:\n",
    "    df[i]=df[i].replace({'[K]':'*1000','[M]':'*1000000','[-]':'0'},regex=True).map(pd.eval).astype(int)\n",
    "    df[i]=df[i].replace(to_replace=0,value=np.nan,inplace=False)\n",
    "\n",
    "    \n",
    "daily_avgs=[\"Avg_Daily_Visitors\",\"Avg_Daily_Pageviews\",\"Traffic_Rank\"]\n",
    "for i in daily_avgs:\n",
    "    df[i]=df[i].replace({' ':''},regex=True)\n",
    "    df[i]=df[i].fillna('0').astype(np.int64)\n",
    "    df[i]=df[i].replace(to_replace=0,value=np.nan,inplace=False)\n",
    "    \n",
    "    \n",
    "df.head()    "
   ]
  },
  {
   "cell_type": "code",
   "execution_count": 4,
   "metadata": {},
   "outputs": [
    {
     "data": {
      "text/plain": [
       "Index(['Country_Rank', 'Website', 'Trustworthiness', 'Avg_Daily_Visitors',\n",
       "       'Child_Safety', 'Avg_Daily_Pageviews', 'Privacy', 'Facebook_likes',\n",
       "       'Twitter_mentions', 'Google_pluses', 'LinkedIn_mentions',\n",
       "       'Pinterest_pins', 'StumbleUpon_views', 'Status', 'Traffic_Rank',\n",
       "       'Location', 'Hosted_by', 'country'],\n",
       "      dtype='object')"
      ]
     },
     "execution_count": 4,
     "metadata": {},
     "output_type": "execute_result"
    }
   ],
   "source": [
    "#droping null values which cannot to calculated or known\n",
    "\n",
    "df=df.drop(df[(df.Location.isnull())|(df.Hosted_by.isnull())|(df.Registrant.isnull())|(df.Registrar.isnull())|(df.country.isnull())|(df.Traffic_Rank.isnull())].index)\n",
    "df=df.drop(df[(df.Avg_Daily_Visitors.isnull())|(df.Avg_Daily_Pageviews.isnull())].index)\n",
    "\n",
    "#droping columns from which inference cannot be made\n",
    "\n",
    "df=df[df.columns.drop(['Reach_Day','Month_Average_Daily_Reach','Daily_Pageviews','Month_Average_Daily_Pageviews','Daily_Pageviews_per_user','Reach_Day_percentage', 'Month_Average_Daily_Reach_percentage','Daily_Pageviews_percentage','Month_Average_Daily_Pageviews_percentage','Daily_Pageviews_per_user_percentage','Subnetworks',\"Registrar\",\"Registrant\"])]\n",
    "\n",
    "#displaying the columns remaing in the dataframe\n",
    "\n",
    "df.columns"
   ]
  },
  {
   "cell_type": "code",
   "execution_count": 5,
   "metadata": {},
   "outputs": [
    {
     "name": "stdout",
     "output_type": "stream",
     "text": [
      "0\n",
      "0\n",
      "0\n",
      "0\n",
      "0\n",
      "0\n",
      "0\n",
      "3306\n",
      "1836\n",
      "696\n",
      "1567\n",
      "5140\n",
      "2055\n",
      "0\n",
      "0\n",
      "0\n",
      "0\n",
      "0\n"
     ]
    }
   ],
   "source": [
    "#displaying number of null values column wise\n",
    "\n",
    "for i in df.columns:\n",
    "\n",
    "    print(df[i].isnull().sum())"
   ]
  },
  {
   "cell_type": "code",
   "execution_count": 6,
   "metadata": {},
   "outputs": [
    {
     "data": {
      "text/plain": [
       "0"
      ]
     },
     "execution_count": 6,
     "metadata": {},
     "output_type": "execute_result"
    }
   ],
   "source": [
    "#reducing null values by merging different social media interaction into a single column\n",
    "\n",
    "df=df.fillna(0)\n",
    "\n",
    "df[\"Social_media_interaction\"]=df[\"Facebook_likes\"]+df[\"Twitter_mentions\"]+df['Google_pluses']+df['LinkedIn_mentions']+df['Pinterest_pins']\n",
    "\n",
    "#droping diffrent social media interactions\n",
    "for i in social_media:\n",
    "    df=df[df.columns.drop(i)]\n",
    "    \n",
    "#replacing 0 with nan\n",
    "df[\"Social_media_interaction\"]=df[\"Social_media_interaction\"].replace(to_replace=0,value=np.nan,inplace=False)\n",
    "\n",
    "#droping rows with null value \n",
    "df=df.drop(df[(df.Social_media_interaction.isnull())].index)  \n",
    "\n",
    "# Looking for null data in the entire dataset\n",
    "df.isnull().sum().sum()"
   ]
  },
  {
   "cell_type": "code",
   "execution_count": 7,
   "metadata": {},
   "outputs": [
    {
     "data": {
      "text/html": [
       "<div>\n",
       "<style scoped>\n",
       "    .dataframe tbody tr th:only-of-type {\n",
       "        vertical-align: middle;\n",
       "    }\n",
       "\n",
       "    .dataframe tbody tr th {\n",
       "        vertical-align: top;\n",
       "    }\n",
       "\n",
       "    .dataframe thead th {\n",
       "        text-align: right;\n",
       "    }\n",
       "</style>\n",
       "<table border=\"1\" class=\"dataframe\">\n",
       "  <thead>\n",
       "    <tr style=\"text-align: right;\">\n",
       "      <th></th>\n",
       "      <th>Country_Rank</th>\n",
       "      <th>Website</th>\n",
       "      <th>Trustworthiness</th>\n",
       "      <th>Avg_Daily_Visitors</th>\n",
       "      <th>Child_Safety</th>\n",
       "      <th>Avg_Daily_Pageviews</th>\n",
       "      <th>Privacy</th>\n",
       "      <th>Status</th>\n",
       "      <th>Traffic_Rank</th>\n",
       "      <th>Location</th>\n",
       "      <th>Hosted_by</th>\n",
       "      <th>country</th>\n",
       "      <th>Social_media_interaction</th>\n",
       "    </tr>\n",
       "  </thead>\n",
       "  <tbody>\n",
       "    <tr>\n",
       "      <th>1</th>\n",
       "      <td>2</td>\n",
       "      <td>www.google.com</td>\n",
       "      <td>Excellent</td>\n",
       "      <td>515007350.0</td>\n",
       "      <td>Excellent</td>\n",
       "      <td>4.192160e+09</td>\n",
       "      <td>Excellent</td>\n",
       "      <td>ok</td>\n",
       "      <td>1.0</td>\n",
       "      <td>United States</td>\n",
       "      <td>Google Inc.</td>\n",
       "      <td>Afghanistan</td>\n",
       "      <td>11817870.0</td>\n",
       "    </tr>\n",
       "    <tr>\n",
       "      <th>2</th>\n",
       "      <td>3</td>\n",
       "      <td>www.youtube.com</td>\n",
       "      <td>Excellent</td>\n",
       "      <td>506457282.0</td>\n",
       "      <td>Excellent</td>\n",
       "      <td>2.679159e+09</td>\n",
       "      <td>Excellent</td>\n",
       "      <td>ok</td>\n",
       "      <td>2.0</td>\n",
       "      <td>United States</td>\n",
       "      <td>Google Inc.</td>\n",
       "      <td>Afghanistan</td>\n",
       "      <td>19390047.0</td>\n",
       "    </tr>\n",
       "    <tr>\n",
       "      <th>3</th>\n",
       "      <td>4</td>\n",
       "      <td>www.facebook.com</td>\n",
       "      <td>Excellent</td>\n",
       "      <td>270071255.0</td>\n",
       "      <td>Good</td>\n",
       "      <td>1.082986e+09</td>\n",
       "      <td>Excellent</td>\n",
       "      <td>ok</td>\n",
       "      <td>3.0</td>\n",
       "      <td>Ireland</td>\n",
       "      <td>Facebook</td>\n",
       "      <td>Afghanistan</td>\n",
       "      <td>6071780.0</td>\n",
       "    </tr>\n",
       "    <tr>\n",
       "      <th>4</th>\n",
       "      <td>5</td>\n",
       "      <td>www.yahoo.com</td>\n",
       "      <td>Excellent</td>\n",
       "      <td>99572035.0</td>\n",
       "      <td>Excellent</td>\n",
       "      <td>3.833523e+08</td>\n",
       "      <td>Excellent</td>\n",
       "      <td>ok</td>\n",
       "      <td>6.0</td>\n",
       "      <td>United States</td>\n",
       "      <td>Yahoo! Inc.</td>\n",
       "      <td>Afghanistan</td>\n",
       "      <td>824243.0</td>\n",
       "    </tr>\n",
       "    <tr>\n",
       "      <th>5</th>\n",
       "      <td>6</td>\n",
       "      <td>www.acbar.org</td>\n",
       "      <td>Unknown</td>\n",
       "      <td>100388.0</td>\n",
       "      <td>Unknown</td>\n",
       "      <td>7.127600e+05</td>\n",
       "      <td>Unknown</td>\n",
       "      <td>ok</td>\n",
       "      <td>8011.0</td>\n",
       "      <td>United States</td>\n",
       "      <td>ARYAN ICT Solutions, LLC</td>\n",
       "      <td>Afghanistan</td>\n",
       "      <td>170.0</td>\n",
       "    </tr>\n",
       "    <tr>\n",
       "      <th>...</th>\n",
       "      <td>...</td>\n",
       "      <td>...</td>\n",
       "      <td>...</td>\n",
       "      <td>...</td>\n",
       "      <td>...</td>\n",
       "      <td>...</td>\n",
       "      <td>...</td>\n",
       "      <td>...</td>\n",
       "      <td>...</td>\n",
       "      <td>...</td>\n",
       "      <td>...</td>\n",
       "      <td>...</td>\n",
       "      <td>...</td>\n",
       "    </tr>\n",
       "    <tr>\n",
       "      <th>9534</th>\n",
       "      <td>45</td>\n",
       "      <td>www.zapmeta.ws</td>\n",
       "      <td>Unknown</td>\n",
       "      <td>914814.0</td>\n",
       "      <td>Unknown</td>\n",
       "      <td>1.948553e+06</td>\n",
       "      <td>Unknown</td>\n",
       "      <td>ok</td>\n",
       "      <td>1464.0</td>\n",
       "      <td>United Kingdom</td>\n",
       "      <td>Everbread Limited IP Space</td>\n",
       "      <td>Zimbabwe</td>\n",
       "      <td>1.0</td>\n",
       "    </tr>\n",
       "    <tr>\n",
       "      <th>9535</th>\n",
       "      <td>46</td>\n",
       "      <td>www.newsdzezimbabwe.co.uk</td>\n",
       "      <td>Unknown</td>\n",
       "      <td>11862.0</td>\n",
       "      <td>Unknown</td>\n",
       "      <td>5.101000e+04</td>\n",
       "      <td>Unknown</td>\n",
       "      <td>ok</td>\n",
       "      <td>77934.0</td>\n",
       "      <td>United States</td>\n",
       "      <td>Google Inc.</td>\n",
       "      <td>Zimbabwe</td>\n",
       "      <td>18.0</td>\n",
       "    </tr>\n",
       "    <tr>\n",
       "      <th>9536</th>\n",
       "      <td>47</td>\n",
       "      <td>www.nehandaradio.com</td>\n",
       "      <td>Unknown</td>\n",
       "      <td>9946.0</td>\n",
       "      <td>Unknown</td>\n",
       "      <td>1.989400e+04</td>\n",
       "      <td>Unknown</td>\n",
       "      <td>ok</td>\n",
       "      <td>58327.0</td>\n",
       "      <td>United States</td>\n",
       "      <td>CloudFlare, Inc.</td>\n",
       "      <td>Zimbabwe</td>\n",
       "      <td>477.0</td>\n",
       "    </tr>\n",
       "    <tr>\n",
       "      <th>9538</th>\n",
       "      <td>49</td>\n",
       "      <td>www.ntd.tv</td>\n",
       "      <td>Unsatisfactory</td>\n",
       "      <td>163932.0</td>\n",
       "      <td>Good</td>\n",
       "      <td>2.163920e+05</td>\n",
       "      <td>Unsatisfactory</td>\n",
       "      <td>ok</td>\n",
       "      <td>37.0</td>\n",
       "      <td>United States</td>\n",
       "      <td>CloudFlare, Inc.</td>\n",
       "      <td>Zimbabwe</td>\n",
       "      <td>164.0</td>\n",
       "    </tr>\n",
       "    <tr>\n",
       "      <th>9539</th>\n",
       "      <td>50</td>\n",
       "      <td>www.emailaccessonline.com</td>\n",
       "      <td>Poor</td>\n",
       "      <td>1331630.0</td>\n",
       "      <td>Unknown</td>\n",
       "      <td>1.717804e+06</td>\n",
       "      <td>Poor</td>\n",
       "      <td>ok</td>\n",
       "      <td>1098.0</td>\n",
       "      <td>United States</td>\n",
       "      <td>Amazon Technologies Inc.</td>\n",
       "      <td>Zimbabwe</td>\n",
       "      <td>4.0</td>\n",
       "    </tr>\n",
       "  </tbody>\n",
       "</table>\n",
       "<p>7834 rows × 13 columns</p>\n",
       "</div>"
      ],
      "text/plain": [
       "      Country_Rank                    Website Trustworthiness  \\\n",
       "1                2             www.google.com       Excellent   \n",
       "2                3            www.youtube.com       Excellent   \n",
       "3                4           www.facebook.com       Excellent   \n",
       "4                5              www.yahoo.com       Excellent   \n",
       "5                6              www.acbar.org         Unknown   \n",
       "...            ...                        ...             ...   \n",
       "9534            45             www.zapmeta.ws         Unknown   \n",
       "9535            46  www.newsdzezimbabwe.co.uk         Unknown   \n",
       "9536            47       www.nehandaradio.com         Unknown   \n",
       "9538            49                 www.ntd.tv  Unsatisfactory   \n",
       "9539            50  www.emailaccessonline.com            Poor   \n",
       "\n",
       "      Avg_Daily_Visitors Child_Safety  Avg_Daily_Pageviews         Privacy  \\\n",
       "1            515007350.0    Excellent         4.192160e+09       Excellent   \n",
       "2            506457282.0    Excellent         2.679159e+09       Excellent   \n",
       "3            270071255.0         Good         1.082986e+09       Excellent   \n",
       "4             99572035.0    Excellent         3.833523e+08       Excellent   \n",
       "5               100388.0      Unknown         7.127600e+05         Unknown   \n",
       "...                  ...          ...                  ...             ...   \n",
       "9534            914814.0      Unknown         1.948553e+06         Unknown   \n",
       "9535             11862.0      Unknown         5.101000e+04         Unknown   \n",
       "9536              9946.0      Unknown         1.989400e+04         Unknown   \n",
       "9538            163932.0         Good         2.163920e+05  Unsatisfactory   \n",
       "9539           1331630.0      Unknown         1.717804e+06            Poor   \n",
       "\n",
       "     Status  Traffic_Rank        Location                   Hosted_by  \\\n",
       "1        ok           1.0   United States                 Google Inc.   \n",
       "2        ok           2.0   United States                 Google Inc.   \n",
       "3        ok           3.0         Ireland                    Facebook   \n",
       "4        ok           6.0   United States                 Yahoo! Inc.   \n",
       "5        ok        8011.0   United States    ARYAN ICT Solutions, LLC   \n",
       "...     ...           ...             ...                         ...   \n",
       "9534     ok        1464.0  United Kingdom  Everbread Limited IP Space   \n",
       "9535     ok       77934.0   United States                 Google Inc.   \n",
       "9536     ok       58327.0   United States            CloudFlare, Inc.   \n",
       "9538     ok          37.0   United States            CloudFlare, Inc.   \n",
       "9539     ok        1098.0   United States    Amazon Technologies Inc.   \n",
       "\n",
       "          country  Social_media_interaction  \n",
       "1     Afghanistan                11817870.0  \n",
       "2     Afghanistan                19390047.0  \n",
       "3     Afghanistan                 6071780.0  \n",
       "4     Afghanistan                  824243.0  \n",
       "5     Afghanistan                     170.0  \n",
       "...           ...                       ...  \n",
       "9534     Zimbabwe                       1.0  \n",
       "9535     Zimbabwe                      18.0  \n",
       "9536     Zimbabwe                     477.0  \n",
       "9538     Zimbabwe                     164.0  \n",
       "9539     Zimbabwe                       4.0  \n",
       "\n",
       "[7834 rows x 13 columns]"
      ]
     },
     "execution_count": 7,
     "metadata": {},
     "output_type": "execute_result"
    }
   ],
   "source": [
    "#cleaned data\n",
    "df"
   ]
  },
  {
   "cell_type": "code",
   "execution_count": 8,
   "metadata": {},
   "outputs": [
    {
     "data": {
      "text/html": [
       "<div>\n",
       "<style scoped>\n",
       "    .dataframe tbody tr th:only-of-type {\n",
       "        vertical-align: middle;\n",
       "    }\n",
       "\n",
       "    .dataframe tbody tr th {\n",
       "        vertical-align: top;\n",
       "    }\n",
       "\n",
       "    .dataframe thead th {\n",
       "        text-align: right;\n",
       "    }\n",
       "</style>\n",
       "<table border=\"1\" class=\"dataframe\">\n",
       "  <thead>\n",
       "    <tr style=\"text-align: right;\">\n",
       "      <th></th>\n",
       "      <th>Country_Rank</th>\n",
       "      <th>Avg_Daily_Visitors</th>\n",
       "      <th>Avg_Daily_Pageviews</th>\n",
       "      <th>Traffic_Rank</th>\n",
       "      <th>Social_media_interaction</th>\n",
       "    </tr>\n",
       "  </thead>\n",
       "  <tbody>\n",
       "    <tr>\n",
       "      <th>count</th>\n",
       "      <td>7834.000000</td>\n",
       "      <td>7.834000e+03</td>\n",
       "      <td>7.834000e+03</td>\n",
       "      <td>7.834000e+03</td>\n",
       "      <td>7.834000e+03</td>\n",
       "    </tr>\n",
       "    <tr>\n",
       "      <th>mean</th>\n",
       "      <td>25.094077</td>\n",
       "      <td>4.834783e+07</td>\n",
       "      <td>2.626371e+08</td>\n",
       "      <td>8.468679e+03</td>\n",
       "      <td>1.577274e+06</td>\n",
       "    </tr>\n",
       "    <tr>\n",
       "      <th>std</th>\n",
       "      <td>14.484722</td>\n",
       "      <td>1.147216e+08</td>\n",
       "      <td>7.617907e+08</td>\n",
       "      <td>4.383430e+04</td>\n",
       "      <td>4.078580e+06</td>\n",
       "    </tr>\n",
       "    <tr>\n",
       "      <th>min</th>\n",
       "      <td>1.000000</td>\n",
       "      <td>1.710000e+02</td>\n",
       "      <td>5.100000e+02</td>\n",
       "      <td>1.000000e+00</td>\n",
       "      <td>1.000000e+00</td>\n",
       "    </tr>\n",
       "    <tr>\n",
       "      <th>25%</th>\n",
       "      <td>12.000000</td>\n",
       "      <td>4.624312e+05</td>\n",
       "      <td>1.512693e+06</td>\n",
       "      <td>3.400000e+01</td>\n",
       "      <td>7.930000e+02</td>\n",
       "    </tr>\n",
       "    <tr>\n",
       "      <th>50%</th>\n",
       "      <td>25.000000</td>\n",
       "      <td>8.558796e+06</td>\n",
       "      <td>2.561836e+07</td>\n",
       "      <td>8.100000e+01</td>\n",
       "      <td>1.729000e+04</td>\n",
       "    </tr>\n",
       "    <tr>\n",
       "      <th>75%</th>\n",
       "      <td>38.000000</td>\n",
       "      <td>2.656781e+07</td>\n",
       "      <td>1.443468e+08</td>\n",
       "      <td>1.345250e+03</td>\n",
       "      <td>5.514990e+05</td>\n",
       "    </tr>\n",
       "    <tr>\n",
       "      <th>max</th>\n",
       "      <td>50.000000</td>\n",
       "      <td>5.181082e+08</td>\n",
       "      <td>4.192160e+09</td>\n",
       "      <td>1.074822e+06</td>\n",
       "      <td>3.629220e+07</td>\n",
       "    </tr>\n",
       "  </tbody>\n",
       "</table>\n",
       "</div>"
      ],
      "text/plain": [
       "       Country_Rank  Avg_Daily_Visitors  Avg_Daily_Pageviews  Traffic_Rank  \\\n",
       "count   7834.000000        7.834000e+03         7.834000e+03  7.834000e+03   \n",
       "mean      25.094077        4.834783e+07         2.626371e+08  8.468679e+03   \n",
       "std       14.484722        1.147216e+08         7.617907e+08  4.383430e+04   \n",
       "min        1.000000        1.710000e+02         5.100000e+02  1.000000e+00   \n",
       "25%       12.000000        4.624312e+05         1.512693e+06  3.400000e+01   \n",
       "50%       25.000000        8.558796e+06         2.561836e+07  8.100000e+01   \n",
       "75%       38.000000        2.656781e+07         1.443468e+08  1.345250e+03   \n",
       "max       50.000000        5.181082e+08         4.192160e+09  1.074822e+06   \n",
       "\n",
       "       Social_media_interaction  \n",
       "count              7.834000e+03  \n",
       "mean               1.577274e+06  \n",
       "std                4.078580e+06  \n",
       "min                1.000000e+00  \n",
       "25%                7.930000e+02  \n",
       "50%                1.729000e+04  \n",
       "75%                5.514990e+05  \n",
       "max                3.629220e+07  "
      ]
     },
     "execution_count": 8,
     "metadata": {},
     "output_type": "execute_result"
    }
   ],
   "source": [
    "#statsitcal analysis of the data(statiscal analysis of Country_Rank and Traffic_Rank is irrelavant)\n",
    "\n",
    "df.describe()"
   ]
  },
  {
   "cell_type": "code",
   "execution_count": 9,
   "metadata": {},
   "outputs": [
    {
     "data": {
      "text/plain": [
       "<matplotlib.axes._subplots.AxesSubplot at 0x21691c85310>"
      ]
     },
     "execution_count": 9,
     "metadata": {},
     "output_type": "execute_result"
    },
    {
     "data": {
      "image/png": "[encoded data removed]",
      "text/plain": [
       "<Figure size 432x288 with 1 Axes>"
      ]
     },
     "metadata": {
      "needs_background": "light"
     },
     "output_type": "display_data"
    }
   ],
   "source": [
    "#plotting graphs\n",
    "#distribution plot \n",
    "sns.distplot(df[\"Avg_Daily_Visitors\"])\n"
   ]
  },
  {
   "cell_type": "code",
   "execution_count": 10,
   "metadata": {},
   "outputs": [
    {
     "data": {
      "text/plain": [
       "<matplotlib.axes._subplots.AxesSubplot at 0x21696cf1130>"
      ]
     },
     "execution_count": 10,
     "metadata": {},
     "output_type": "execute_result"
    },
    {
     "data": {
      "image/png": "[encoded data removed]",
      "text/plain": [
       "<Figure size 432x288 with 1 Axes>"
      ]
     },
     "metadata": {
      "needs_background": "light"
     },
     "output_type": "display_data"
    }
   ],
   "source": [
    "sns.distplot(df[\"Avg_Daily_Pageviews\"])\n"
   ]
  },
  {
   "cell_type": "code",
   "execution_count": 11,
   "metadata": {},
   "outputs": [
    {
     "data": {
      "text/plain": [
       "<matplotlib.axes._subplots.AxesSubplot at 0x21697759220>"
      ]
     },
     "execution_count": 11,
     "metadata": {},
     "output_type": "execute_result"
    },
    {
     "data": {
      "image/png": "[encoded data removed]",
      "text/plain": [
       "<Figure size 432x288 with 1 Axes>"
      ]
     },
     "metadata": {
      "needs_background": "light"
     },
     "output_type": "display_data"
    }
   ],
   "source": [
    "sns.distplot(df[\"Social_media_interaction\"])"
   ]
  },
  {
   "cell_type": "code",
   "execution_count": 12,
   "metadata": {},
   "outputs": [
    {
     "data": {
      "text/plain": [
       "<matplotlib.axes._subplots.AxesSubplot at 0x216978272b0>"
      ]
     },
     "execution_count": 12,
     "metadata": {},
     "output_type": "execute_result"
    },
    {
     "data": {
      "image/png": "[encoded data removed]",
      "text/plain": [
       "<Figure size 432x288 with 1 Axes>"
      ]
     },
     "metadata": {
      "needs_background": "light"
     },
     "output_type": "display_data"
    }
   ],
   "source": [
    "#box plot\n",
    "sns.boxplot(df['Avg_Daily_Visitors'])"
   ]
  },
  {
   "cell_type": "code",
   "execution_count": 13,
   "metadata": {},
   "outputs": [
    {
     "data": {
      "text/plain": [
       "<matplotlib.axes._subplots.AxesSubplot at 0x2169789aa60>"
      ]
     },
     "execution_count": 13,
     "metadata": {},
     "output_type": "execute_result"
    },
    {
     "data": {
      "image/png": "[encoded data removed]",
      "text/plain": [
       "<Figure size 432x288 with 1 Axes>"
      ]
     },
     "metadata": {
      "needs_background": "light"
     },
     "output_type": "display_data"
    }
   ],
   "source": [
    "sns.boxplot(df['Avg_Daily_Pageviews'])"
   ]
  },
  {
   "cell_type": "code",
   "execution_count": 14,
   "metadata": {},
   "outputs": [
    {
     "data": {
      "text/plain": [
       "<matplotlib.axes._subplots.AxesSubplot at 0x21696d25d30>"
      ]
     },
     "execution_count": 14,
     "metadata": {},
     "output_type": "execute_result"
    },
    {
     "data": {
      "image/png": "[encoded data removed]",
      "text/plain": [
       "<Figure size 432x288 with 1 Axes>"
      ]
     },
     "metadata": {
      "needs_background": "light"
     },
     "output_type": "display_data"
    }
   ],
   "source": [
    "sns.boxplot(df['Social_media_interaction'])"
   ]
  },
  {
   "cell_type": "markdown",
   "metadata": {},
   "source": [
    "##### INFERENCE:\n",
    "    \n",
    "    1. The dataset is highly positively skewed and it makes data analysis difficult.So,normalization is required\n",
    "    2. The dataset is highly irregular and it is diificult to make conclusions\n",
    "    3. Column-Social_meadia_interactions has a large number of outliers compared to the other two columns Avg_Daily_Visitors          and Avg_Daily_Previews which has just handfull of outliers\n",
    "    4. Therfore dataset must be normalized to make better predictions on the data set\n",
    "    "
   ]
  },
  {
   "cell_type": "code",
   "execution_count": 15,
   "metadata": {},
   "outputs": [
    {
     "data": {
      "text/plain": [
       "<matplotlib.axes._subplots.AxesSubplot at 0x216979925e0>"
      ]
     },
     "execution_count": 15,
     "metadata": {},
     "output_type": "execute_result"
    },
    {
     "data": {
      "image/png": "[encoded data removed]",
      "text/plain": [
       "<Figure size 432x288 with 1 Axes>"
      ]
     },
     "metadata": {
      "needs_background": "light"
     },
     "output_type": "display_data"
    }
   ],
   "source": [
    "df['Trustworthiness'].value_counts().plot(kind='bar')"
   ]
  },
  {
   "cell_type": "code",
   "execution_count": 16,
   "metadata": {},
   "outputs": [
    {
     "data": {
      "text/plain": [
       "<matplotlib.axes._subplots.AxesSubplot at 0x216979f9c40>"
      ]
     },
     "execution_count": 16,
     "metadata": {},
     "output_type": "execute_result"
    },
    {
     "data": {
      "image/png": "[encoded data removed]",
      "text/plain": [
       "<Figure size 432x288 with 1 Axes>"
      ]
     },
     "metadata": {
      "needs_background": "light"
     },
     "output_type": "display_data"
    }
   ],
   "source": [
    "df['Child_Safety'].value_counts().plot(kind='bar')"
   ]
  },
  {
   "cell_type": "code",
   "execution_count": 17,
   "metadata": {},
   "outputs": [
    {
     "data": {
      "text/plain": [
       "<matplotlib.axes._subplots.AxesSubplot at 0x21697a2bfa0>"
      ]
     },
     "execution_count": 17,
     "metadata": {},
     "output_type": "execute_result"
    },
    {
     "data": {
      "image/png": "[encoded data removed]",
      "text/plain": [
       "<Figure size 432x288 with 1 Axes>"
      ]
     },
     "metadata": {
      "needs_background": "light"
     },
     "output_type": "display_data"
    }
   ],
   "source": [
    "df['Privacy'].value_counts().plot(kind='bar')"
   ]
  },
  {
   "cell_type": "markdown",
   "metadata": {},
   "source": [
    "#### INFERENCE:\n",
    "    1. Trustworthiness of the websites are remarkarbly  excellent and relatively small number of websites are good .A small      number of websites doesn't havve the the trust of the users and small portion of the data is unkown.\n",
    "    2. Child safety provided by  the websites are remarkarbly  excellent and relatively small number of websites are good .A    small number of websites doesn't provide child safety for the users and small portion of the data is unkown.\n",
    "    3. Privacy of the websites are remarkarbly  excellent and relatively small number of websites are good .A small number   of  websites doesn't havve the the trust of the users and small portion of the data is unkown.\n",
    "    4. Its good to see that most of websites upholds child safety and privacy and has gain the trust of the users and  a    small proportion of the websites are underperforming on child safety and privacy.\n",
    "    "
   ]
  },
  {
   "cell_type": "code",
   "execution_count": 18,
   "metadata": {},
   "outputs": [
    {
     "name": "stdout",
     "output_type": "stream",
     "text": [
      "3.3532895414161388\n",
      "4.118707571970927\n",
      "3.3487428083652424\n"
     ]
    }
   ],
   "source": [
    "column=['Avg_Daily_Visitors','Avg_Daily_Pageviews','Social_media_interaction']\n",
    "for i in column:\n",
    "    print(df[i].skew())"
   ]
  },
  {
   "cell_type": "code",
   "execution_count": 19,
   "metadata": {},
   "outputs": [],
   "source": [
    "#removing the skewness of the data boxcox method\n",
    "\n",
    "df_box=pd.DataFrame.copy(df)\n",
    "for i in column:\n",
    "    df_box[i]=stats.boxcox(df[i])[0]"
   ]
  },
  {
   "cell_type": "code",
   "execution_count": 20,
   "metadata": {},
   "outputs": [
    {
     "name": "stdout",
     "output_type": "stream",
     "text": [
      "-0.06467382447950648\n",
      "-0.0366114323414018\n",
      "-0.035088381569041066\n"
     ]
    }
   ],
   "source": [
    "for i in column:\n",
    "    print(df_box[i].skew())"
   ]
  },
  {
   "cell_type": "code",
   "execution_count": 21,
   "metadata": {},
   "outputs": [
    {
     "data": {
      "text/html": [
       "<div>\n",
       "<style scoped>\n",
       "    .dataframe tbody tr th:only-of-type {\n",
       "        vertical-align: middle;\n",
       "    }\n",
       "\n",
       "    .dataframe tbody tr th {\n",
       "        vertical-align: top;\n",
       "    }\n",
       "\n",
       "    .dataframe thead th {\n",
       "        text-align: right;\n",
       "    }\n",
       "</style>\n",
       "<table border=\"1\" class=\"dataframe\">\n",
       "  <thead>\n",
       "    <tr style=\"text-align: right;\">\n",
       "      <th></th>\n",
       "      <th>Country_Rank</th>\n",
       "      <th>Avg_Daily_Visitors</th>\n",
       "      <th>Avg_Daily_Pageviews</th>\n",
       "      <th>Traffic_Rank</th>\n",
       "      <th>Social_media_interaction</th>\n",
       "    </tr>\n",
       "  </thead>\n",
       "  <tbody>\n",
       "    <tr>\n",
       "      <th>count</th>\n",
       "      <td>7834.000000</td>\n",
       "      <td>7834.000000</td>\n",
       "      <td>7834.000000</td>\n",
       "      <td>7.834000e+03</td>\n",
       "      <td>7834.000000</td>\n",
       "    </tr>\n",
       "    <tr>\n",
       "      <th>mean</th>\n",
       "      <td>25.094077</td>\n",
       "      <td>32.592536</td>\n",
       "      <td>29.248510</td>\n",
       "      <td>8.468679e+03</td>\n",
       "      <td>11.349108</td>\n",
       "    </tr>\n",
       "    <tr>\n",
       "      <th>std</th>\n",
       "      <td>14.484722</td>\n",
       "      <td>10.587392</td>\n",
       "      <td>8.345123</td>\n",
       "      <td>4.383430e+04</td>\n",
       "      <td>5.598382</td>\n",
       "    </tr>\n",
       "    <tr>\n",
       "      <th>min</th>\n",
       "      <td>1.000000</td>\n",
       "      <td>6.467092</td>\n",
       "      <td>7.600255</td>\n",
       "      <td>1.000000e+00</td>\n",
       "      <td>0.000000</td>\n",
       "    </tr>\n",
       "    <tr>\n",
       "      <th>25%</th>\n",
       "      <td>12.000000</td>\n",
       "      <td>24.082731</td>\n",
       "      <td>22.765342</td>\n",
       "      <td>3.400000e+01</td>\n",
       "      <td>7.324421</td>\n",
       "    </tr>\n",
       "    <tr>\n",
       "      <th>50%</th>\n",
       "      <td>25.000000</td>\n",
       "      <td>34.274121</td>\n",
       "      <td>30.189434</td>\n",
       "      <td>8.100000e+01</td>\n",
       "      <td>11.184624</td>\n",
       "    </tr>\n",
       "    <tr>\n",
       "      <th>75%</th>\n",
       "      <td>38.000000</td>\n",
       "      <td>38.972712</td>\n",
       "      <td>35.405343</td>\n",
       "      <td>1.345250e+03</td>\n",
       "      <td>15.927940</td>\n",
       "    </tr>\n",
       "    <tr>\n",
       "      <th>max</th>\n",
       "      <td>50.000000</td>\n",
       "      <td>53.707386</td>\n",
       "      <td>47.311399</td>\n",
       "      <td>1.074822e+06</td>\n",
       "      <td>22.297165</td>\n",
       "    </tr>\n",
       "  </tbody>\n",
       "</table>\n",
       "</div>"
      ],
      "text/plain": [
       "       Country_Rank  Avg_Daily_Visitors  Avg_Daily_Pageviews  Traffic_Rank  \\\n",
       "count   7834.000000         7834.000000          7834.000000  7.834000e+03   \n",
       "mean      25.094077           32.592536            29.248510  8.468679e+03   \n",
       "std       14.484722           10.587392             8.345123  4.383430e+04   \n",
       "min        1.000000            6.467092             7.600255  1.000000e+00   \n",
       "25%       12.000000           24.082731            22.765342  3.400000e+01   \n",
       "50%       25.000000           34.274121            30.189434  8.100000e+01   \n",
       "75%       38.000000           38.972712            35.405343  1.345250e+03   \n",
       "max       50.000000           53.707386            47.311399  1.074822e+06   \n",
       "\n",
       "       Social_media_interaction  \n",
       "count               7834.000000  \n",
       "mean                  11.349108  \n",
       "std                    5.598382  \n",
       "min                    0.000000  \n",
       "25%                    7.324421  \n",
       "50%                   11.184624  \n",
       "75%                   15.927940  \n",
       "max                   22.297165  "
      ]
     },
     "execution_count": 21,
     "metadata": {},
     "output_type": "execute_result"
    }
   ],
   "source": [
    "df_box.describe()"
   ]
  },
  {
   "cell_type": "code",
   "execution_count": 22,
   "metadata": {},
   "outputs": [
    {
     "data": {
      "text/html": [
       "<div>\n",
       "<style scoped>\n",
       "    .dataframe tbody tr th:only-of-type {\n",
       "        vertical-align: middle;\n",
       "    }\n",
       "\n",
       "    .dataframe tbody tr th {\n",
       "        vertical-align: top;\n",
       "    }\n",
       "\n",
       "    .dataframe thead th {\n",
       "        text-align: right;\n",
       "    }\n",
       "</style>\n",
       "<table border=\"1\" class=\"dataframe\">\n",
       "  <thead>\n",
       "    <tr style=\"text-align: right;\">\n",
       "      <th></th>\n",
       "      <th>Country_Rank</th>\n",
       "      <th>Avg_Daily_Visitors</th>\n",
       "      <th>Avg_Daily_Pageviews</th>\n",
       "      <th>Traffic_Rank</th>\n",
       "      <th>Social_media_interaction</th>\n",
       "    </tr>\n",
       "  </thead>\n",
       "  <tbody>\n",
       "    <tr>\n",
       "      <th>count</th>\n",
       "      <td>7834.000000</td>\n",
       "      <td>7.834000e+03</td>\n",
       "      <td>7.834000e+03</td>\n",
       "      <td>7.834000e+03</td>\n",
       "      <td>7.834000e+03</td>\n",
       "    </tr>\n",
       "    <tr>\n",
       "      <th>mean</th>\n",
       "      <td>25.094077</td>\n",
       "      <td>4.834783e+07</td>\n",
       "      <td>2.626371e+08</td>\n",
       "      <td>8.468679e+03</td>\n",
       "      <td>1.577274e+06</td>\n",
       "    </tr>\n",
       "    <tr>\n",
       "      <th>std</th>\n",
       "      <td>14.484722</td>\n",
       "      <td>1.147216e+08</td>\n",
       "      <td>7.617907e+08</td>\n",
       "      <td>4.383430e+04</td>\n",
       "      <td>4.078580e+06</td>\n",
       "    </tr>\n",
       "    <tr>\n",
       "      <th>min</th>\n",
       "      <td>1.000000</td>\n",
       "      <td>1.710000e+02</td>\n",
       "      <td>5.100000e+02</td>\n",
       "      <td>1.000000e+00</td>\n",
       "      <td>1.000000e+00</td>\n",
       "    </tr>\n",
       "    <tr>\n",
       "      <th>25%</th>\n",
       "      <td>12.000000</td>\n",
       "      <td>4.624312e+05</td>\n",
       "      <td>1.512693e+06</td>\n",
       "      <td>3.400000e+01</td>\n",
       "      <td>7.930000e+02</td>\n",
       "    </tr>\n",
       "    <tr>\n",
       "      <th>50%</th>\n",
       "      <td>25.000000</td>\n",
       "      <td>8.558796e+06</td>\n",
       "      <td>2.561836e+07</td>\n",
       "      <td>8.100000e+01</td>\n",
       "      <td>1.729000e+04</td>\n",
       "    </tr>\n",
       "    <tr>\n",
       "      <th>75%</th>\n",
       "      <td>38.000000</td>\n",
       "      <td>2.656781e+07</td>\n",
       "      <td>1.443468e+08</td>\n",
       "      <td>1.345250e+03</td>\n",
       "      <td>5.514990e+05</td>\n",
       "    </tr>\n",
       "    <tr>\n",
       "      <th>max</th>\n",
       "      <td>50.000000</td>\n",
       "      <td>5.181082e+08</td>\n",
       "      <td>4.192160e+09</td>\n",
       "      <td>1.074822e+06</td>\n",
       "      <td>3.629220e+07</td>\n",
       "    </tr>\n",
       "  </tbody>\n",
       "</table>\n",
       "</div>"
      ],
      "text/plain": [
       "       Country_Rank  Avg_Daily_Visitors  Avg_Daily_Pageviews  Traffic_Rank  \\\n",
       "count   7834.000000        7.834000e+03         7.834000e+03  7.834000e+03   \n",
       "mean      25.094077        4.834783e+07         2.626371e+08  8.468679e+03   \n",
       "std       14.484722        1.147216e+08         7.617907e+08  4.383430e+04   \n",
       "min        1.000000        1.710000e+02         5.100000e+02  1.000000e+00   \n",
       "25%       12.000000        4.624312e+05         1.512693e+06  3.400000e+01   \n",
       "50%       25.000000        8.558796e+06         2.561836e+07  8.100000e+01   \n",
       "75%       38.000000        2.656781e+07         1.443468e+08  1.345250e+03   \n",
       "max       50.000000        5.181082e+08         4.192160e+09  1.074822e+06   \n",
       "\n",
       "       Social_media_interaction  \n",
       "count              7.834000e+03  \n",
       "mean               1.577274e+06  \n",
       "std                4.078580e+06  \n",
       "min                1.000000e+00  \n",
       "25%                7.930000e+02  \n",
       "50%                1.729000e+04  \n",
       "75%                5.514990e+05  \n",
       "max                3.629220e+07  "
      ]
     },
     "execution_count": 22,
     "metadata": {},
     "output_type": "execute_result"
    }
   ],
   "source": [
    "df.describe()"
   ]
  },
  {
   "cell_type": "code",
   "execution_count": 23,
   "metadata": {},
   "outputs": [
    {
     "data": {
      "text/plain": [
       "<matplotlib.axes._subplots.AxesSubplot at 0x21696b76df0>"
      ]
     },
     "execution_count": 23,
     "metadata": {},
     "output_type": "execute_result"
    },
    {
     "data": {
      "image/png": "[encoded data removed]",
      "text/plain": [
       "<Figure size 432x288 with 1 Axes>"
      ]
     },
     "metadata": {
      "needs_background": "light"
     },
     "output_type": "display_data"
    }
   ],
   "source": [
    "sns.distplot(df_box[\"Avg_Daily_Visitors\"])"
   ]
  },
  {
   "cell_type": "code",
   "execution_count": 24,
   "metadata": {},
   "outputs": [
    {
     "data": {
      "text/plain": [
       "<matplotlib.axes._subplots.AxesSubplot at 0x21697b76cd0>"
      ]
     },
     "execution_count": 24,
     "metadata": {},
     "output_type": "execute_result"
    },
    {
     "data": {
      "image/png": "[encoded data removed]",
      "text/plain": [
       "<Figure size 432x288 with 1 Axes>"
      ]
     },
     "metadata": {
      "needs_background": "light"
     },
     "output_type": "display_data"
    }
   ],
   "source": [
    "sns.distplot(df_box[\"Avg_Daily_Pageviews\"])"
   ]
  },
  {
   "cell_type": "code",
   "execution_count": 25,
   "metadata": {},
   "outputs": [
    {
     "data": {
      "text/plain": [
       "<matplotlib.axes._subplots.AxesSubplot at 0x21698bedb50>"
      ]
     },
     "execution_count": 25,
     "metadata": {},
     "output_type": "execute_result"
    },
    {
     "data": {
      "image/png": "[encoded data removed]",
      "text/plain": [
       "<Figure size 432x288 with 1 Axes>"
      ]
     },
     "metadata": {
      "needs_background": "light"
     },
     "output_type": "display_data"
    }
   ],
   "source": [
    "sns.distplot(df_box[\"Social_media_interaction\"])"
   ]
  },
  {
   "cell_type": "code",
   "execution_count": 26,
   "metadata": {},
   "outputs": [
    {
     "data": {
      "text/plain": [
       "<matplotlib.axes._subplots.AxesSubplot at 0x21698c85c70>"
      ]
     },
     "execution_count": 26,
     "metadata": {},
     "output_type": "execute_result"
    },
    {
     "data": {
      "image/png": "[encoded data removed]",
      "text/plain": [
       "<Figure size 432x288 with 1 Axes>"
      ]
     },
     "metadata": {
      "needs_background": "light"
     },
     "output_type": "display_data"
    }
   ],
   "source": [
    "sns.boxplot(df_box['Avg_Daily_Visitors'])"
   ]
  },
  {
   "cell_type": "code",
   "execution_count": 27,
   "metadata": {},
   "outputs": [
    {
     "data": {
      "text/plain": [
       "<matplotlib.axes._subplots.AxesSubplot at 0x21698cc2100>"
      ]
     },
     "execution_count": 27,
     "metadata": {},
     "output_type": "execute_result"
    },
    {
     "data": {
      "image/png": "[encoded data removed]",
      "text/plain": [
       "<Figure size 432x288 with 1 Axes>"
      ]
     },
     "metadata": {
      "needs_background": "light"
     },
     "output_type": "display_data"
    }
   ],
   "source": [
    "sns.boxplot(df_box['Avg_Daily_Pageviews'])"
   ]
  },
  {
   "cell_type": "code",
   "execution_count": 28,
   "metadata": {},
   "outputs": [
    {
     "data": {
      "text/plain": [
       "<matplotlib.axes._subplots.AxesSubplot at 0x2169782fa60>"
      ]
     },
     "execution_count": 28,
     "metadata": {},
     "output_type": "execute_result"
    },
    {
     "data": {
      "image/png": "[encoded data removed]",
      "text/plain": [
       "<Figure size 432x288 with 1 Axes>"
      ]
     },
     "metadata": {
      "needs_background": "light"
     },
     "output_type": "display_data"
    }
   ],
   "source": [
    "sns.boxplot(df_box['Social_media_interaction'])"
   ]
  },
  {
   "cell_type": "markdown",
   "metadata": {},
   "source": [
    "#### INFERENCE:\n",
    "        1. Boxcox method is use to normalize the dataset .It can be noted that the skewness almost has reduced near to zero.\n",
    "        2. The dataset better normalized than the original form and the data is more evenly distributed than before.\n",
    "        3. The data interpratation will be  easier and more precise"
   ]
  },
  {
   "cell_type": "code",
   "execution_count": 29,
   "metadata": {},
   "outputs": [],
   "source": [
    "#Setting mean mu=0 and standard devisation s=1\n",
    "df_norm=pd.DataFrame.copy(df_box)\n",
    "for i in column:\n",
    "    df_norm[i]=df_box[i]-df_box[i].mean()\n",
    "    df_norm[i]=df_norm[i]/df_box[i].std()            "
   ]
  },
  {
   "cell_type": "code",
   "execution_count": 30,
   "metadata": {},
   "outputs": [
    {
     "data": {
      "text/html": [
       "<div>\n",
       "<style scoped>\n",
       "    .dataframe tbody tr th:only-of-type {\n",
       "        vertical-align: middle;\n",
       "    }\n",
       "\n",
       "    .dataframe tbody tr th {\n",
       "        vertical-align: top;\n",
       "    }\n",
       "\n",
       "    .dataframe thead th {\n",
       "        text-align: right;\n",
       "    }\n",
       "</style>\n",
       "<table border=\"1\" class=\"dataframe\">\n",
       "  <thead>\n",
       "    <tr style=\"text-align: right;\">\n",
       "      <th></th>\n",
       "      <th>Country_Rank</th>\n",
       "      <th>Avg_Daily_Visitors</th>\n",
       "      <th>Avg_Daily_Pageviews</th>\n",
       "      <th>Traffic_Rank</th>\n",
       "      <th>Social_media_interaction</th>\n",
       "    </tr>\n",
       "  </thead>\n",
       "  <tbody>\n",
       "    <tr>\n",
       "      <th>count</th>\n",
       "      <td>7834.000000</td>\n",
       "      <td>7.834000e+03</td>\n",
       "      <td>7.834000e+03</td>\n",
       "      <td>7.834000e+03</td>\n",
       "      <td>7.834000e+03</td>\n",
       "    </tr>\n",
       "    <tr>\n",
       "      <th>mean</th>\n",
       "      <td>25.094077</td>\n",
       "      <td>5.618113e-15</td>\n",
       "      <td>2.451383e-14</td>\n",
       "      <td>8.468679e+03</td>\n",
       "      <td>7.808918e-15</td>\n",
       "    </tr>\n",
       "    <tr>\n",
       "      <th>std</th>\n",
       "      <td>14.484722</td>\n",
       "      <td>1.000000e+00</td>\n",
       "      <td>1.000000e+00</td>\n",
       "      <td>4.383430e+04</td>\n",
       "      <td>1.000000e+00</td>\n",
       "    </tr>\n",
       "    <tr>\n",
       "      <th>min</th>\n",
       "      <td>1.000000</td>\n",
       "      <td>-2.467599e+00</td>\n",
       "      <td>-2.594121e+00</td>\n",
       "      <td>1.000000e+00</td>\n",
       "      <td>-2.027212e+00</td>\n",
       "    </tr>\n",
       "    <tr>\n",
       "      <th>25%</th>\n",
       "      <td>12.000000</td>\n",
       "      <td>-8.037678e-01</td>\n",
       "      <td>-7.768811e-01</td>\n",
       "      <td>3.400000e+01</td>\n",
       "      <td>-7.189019e-01</td>\n",
       "    </tr>\n",
       "    <tr>\n",
       "      <th>50%</th>\n",
       "      <td>25.000000</td>\n",
       "      <td>1.588290e-01</td>\n",
       "      <td>1.127513e-01</td>\n",
       "      <td>8.100000e+01</td>\n",
       "      <td>-2.938069e-02</td>\n",
       "    </tr>\n",
       "    <tr>\n",
       "      <th>75%</th>\n",
       "      <td>38.000000</td>\n",
       "      <td>6.026202e-01</td>\n",
       "      <td>7.377761e-01</td>\n",
       "      <td>1.345250e+03</td>\n",
       "      <td>8.178849e-01</td>\n",
       "    </tr>\n",
       "    <tr>\n",
       "      <th>max</th>\n",
       "      <td>50.000000</td>\n",
       "      <td>1.994339e+00</td>\n",
       "      <td>2.164484e+00</td>\n",
       "      <td>1.074822e+06</td>\n",
       "      <td>1.955575e+00</td>\n",
       "    </tr>\n",
       "  </tbody>\n",
       "</table>\n",
       "</div>"
      ],
      "text/plain": [
       "       Country_Rank  Avg_Daily_Visitors  Avg_Daily_Pageviews  Traffic_Rank  \\\n",
       "count   7834.000000        7.834000e+03         7.834000e+03  7.834000e+03   \n",
       "mean      25.094077        5.618113e-15         2.451383e-14  8.468679e+03   \n",
       "std       14.484722        1.000000e+00         1.000000e+00  4.383430e+04   \n",
       "min        1.000000       -2.467599e+00        -2.594121e+00  1.000000e+00   \n",
       "25%       12.000000       -8.037678e-01        -7.768811e-01  3.400000e+01   \n",
       "50%       25.000000        1.588290e-01         1.127513e-01  8.100000e+01   \n",
       "75%       38.000000        6.026202e-01         7.377761e-01  1.345250e+03   \n",
       "max       50.000000        1.994339e+00         2.164484e+00  1.074822e+06   \n",
       "\n",
       "       Social_media_interaction  \n",
       "count              7.834000e+03  \n",
       "mean               7.808918e-15  \n",
       "std                1.000000e+00  \n",
       "min               -2.027212e+00  \n",
       "25%               -7.189019e-01  \n",
       "50%               -2.938069e-02  \n",
       "75%                8.178849e-01  \n",
       "max                1.955575e+00  "
      ]
     },
     "execution_count": 30,
     "metadata": {},
     "output_type": "execute_result"
    }
   ],
   "source": [
    "df_norm.describe()"
   ]
  },
  {
   "cell_type": "code",
   "execution_count": 31,
   "metadata": {},
   "outputs": [
    {
     "data": {
      "text/plain": [
       "<matplotlib.axes._subplots.AxesSubplot at 0x21697a4d490>"
      ]
     },
     "execution_count": 31,
     "metadata": {},
     "output_type": "execute_result"
    },
    {
     "data": {
      "image/png": "[encoded data removed]",
      "text/plain": [
       "<Figure size 432x288 with 1 Axes>"
      ]
     },
     "metadata": {
      "needs_background": "light"
     },
     "output_type": "display_data"
    }
   ],
   "source": [
    "sns.distplot(df_norm[\"Avg_Daily_Visitors\"])"
   ]
  },
  {
   "cell_type": "code",
   "execution_count": 32,
   "metadata": {},
   "outputs": [
    {
     "data": {
      "text/plain": [
       "<matplotlib.axes._subplots.AxesSubplot at 0x21698e166a0>"
      ]
     },
     "execution_count": 32,
     "metadata": {},
     "output_type": "execute_result"
    },
    {
     "data": {
      "image/png": "[encoded data removed]",
      "text/plain": [
       "<Figure size 432x288 with 1 Axes>"
      ]
     },
     "metadata": {
      "needs_background": "light"
     },
     "output_type": "display_data"
    }
   ],
   "source": [
    "sns.distplot(df_norm[\"Avg_Daily_Pageviews\"])"
   ]
  },
  {
   "cell_type": "code",
   "execution_count": 33,
   "metadata": {},
   "outputs": [
    {
     "data": {
      "text/plain": [
       "<matplotlib.axes._subplots.AxesSubplot at 0x21698eb7a30>"
      ]
     },
     "execution_count": 33,
     "metadata": {},
     "output_type": "execute_result"
    },
    {
     "data": {
      "image/png": "[encoded data removed]",
      "text/plain": [
       "<Figure size 432x288 with 1 Axes>"
      ]
     },
     "metadata": {
      "needs_background": "light"
     },
     "output_type": "display_data"
    }
   ],
   "source": [
    "sns.distplot(df_norm[\"Social_media_interaction\"])"
   ]
  },
  {
   "cell_type": "markdown",
   "metadata": {},
   "source": [
    "#### Value count in terms of percentage:"
   ]
  },
  {
   "cell_type": "markdown",
   "metadata": {},
   "source": [
    "#### Trustworthiness:"
   ]
  },
  {
   "cell_type": "code",
   "execution_count": 34,
   "metadata": {},
   "outputs": [
    {
     "data": {
      "text/plain": [
       "Excellent         0.716109\n",
       "Good              0.123309\n",
       "Unknown           0.068675\n",
       "Unsatisfactory    0.056421\n",
       "Poor              0.027444\n",
       "Very poor         0.008042\n",
       "Name: Trustworthiness, dtype: float64"
      ]
     },
     "execution_count": 34,
     "metadata": {},
     "output_type": "execute_result"
    }
   ],
   "source": [
    "df['Trustworthiness'].value_counts(normalize=True)"
   ]
  },
  {
   "cell_type": "markdown",
   "metadata": {},
   "source": [
    "#### Child safety:"
   ]
  },
  {
   "cell_type": "code",
   "execution_count": 35,
   "metadata": {},
   "outputs": [
    {
     "data": {
      "text/plain": [
       "Excellent         0.679602\n",
       "Unknown           0.094715\n",
       "Good              0.092801\n",
       "Very poor         0.080291\n",
       "Unsatisfactory    0.028338\n",
       "Poor              0.024253\n",
       "Name: Child_Safety, dtype: float64"
      ]
     },
     "execution_count": 35,
     "metadata": {},
     "output_type": "execute_result"
    }
   ],
   "source": [
    "df['Child_Safety'].value_counts(normalize=True)"
   ]
  },
  {
   "cell_type": "markdown",
   "metadata": {},
   "source": [
    "#### Privacy:"
   ]
  },
  {
   "cell_type": "code",
   "execution_count": 36,
   "metadata": {},
   "outputs": [
    {
     "data": {
      "text/plain": [
       "Excellent         0.716109\n",
       "Good              0.123309\n",
       "Unknown           0.068675\n",
       "Unsatisfactory    0.056421\n",
       "Poor              0.027444\n",
       "Very poor         0.008042\n",
       "Name: Privacy, dtype: float64"
      ]
     },
     "execution_count": 36,
     "metadata": {},
     "output_type": "execute_result"
    }
   ],
   "source": [
    "df['Privacy'].value_counts(normalize=True)"
   ]
  },
  {
   "cell_type": "markdown",
   "metadata": {},
   "source": [
    "#### Location:"
   ]
  },
  {
   "cell_type": "code",
   "execution_count": 37,
   "metadata": {},
   "outputs": [
    {
     "data": {
      "text/plain": [
       "United States         0.680240\n",
       "Netherlands           0.062803\n",
       "Ireland               0.032933\n",
       "France                0.028466\n",
       "Russian Federation    0.027827\n",
       "                        ...   \n",
       "Paraguay              0.000128\n",
       "Morocco               0.000128\n",
       "Mali                  0.000128\n",
       "Albania               0.000128\n",
       "Dominican Republic    0.000128\n",
       "Name: Location, Length: 103, dtype: float64"
      ]
     },
     "execution_count": 37,
     "metadata": {},
     "output_type": "execute_result"
    }
   ],
   "source": [
    "df[\"Location\"].value_counts(normalize=True)"
   ]
  },
  {
   "cell_type": "markdown",
   "metadata": {},
   "source": [
    "#### Hostedby:"
   ]
  },
  {
   "cell_type": "code",
   "execution_count": 38,
   "metadata": {},
   "outputs": [
    {
     "data": {
      "text/plain": [
       "CloudFlare, Inc.             0.120117\n",
       "Akamai Technologies, Inc.    0.099821\n",
       "Google Inc.                  0.089482\n",
       "Microsoft Corporation        0.053868\n",
       "Amazon Technologies Inc.     0.042124\n",
       "                               ...   \n",
       "NTT KOREA                    0.000128\n",
       "Tieto Oyj                    0.000128\n",
       "XNET PPPoE Customers         0.000128\n",
       "SC STARNET SRL               0.000128\n",
       "Artashat City                0.000128\n",
       "Name: Hosted_by, Length: 897, dtype: float64"
      ]
     },
     "execution_count": 38,
     "metadata": {},
     "output_type": "execute_result"
    }
   ],
   "source": [
    "df[\"Hosted_by\"].value_counts(normalize=True)"
   ]
  },
  {
   "cell_type": "markdown",
   "metadata": {},
   "source": [
    "#### Popularity:"
   ]
  },
  {
   "cell_type": "code",
   "execution_count": 39,
   "metadata": {},
   "outputs": [
    {
     "data": {
      "text/plain": [
       "www.google.com        0.113841\n",
       "www.youtube.com       0.113241\n",
       "www.facebook.com      0.107250\n",
       "www.wikipedia.org     0.088077\n",
       "www.yahoo.com         0.075494\n",
       "                        ...   \n",
       "www.nrttv.com         0.000599\n",
       "www.sahibinden.com    0.000599\n",
       "www.kurir.rs          0.000599\n",
       "www.essahraa.net      0.000599\n",
       "www.google.de         0.000599\n",
       "Name: Website, Length: 435, dtype: float64"
      ]
     },
     "execution_count": 39,
     "metadata": {},
     "output_type": "execute_result"
    }
   ],
   "source": [
    "# selecting the top 10 ranked websites of differnt countries\n",
    "popular_websites=df[\"Website\"].loc[df[\"Country_Rank\"]<=10]\n",
    "popular_websites.value_counts(normalize=True)"
   ]
  },
  {
   "cell_type": "markdown",
   "metadata": {},
   "source": [
    "#### Inference:\n",
    "       1. www.google.com is the most popular and top rated website\n",
    "       2. www.google.hr , www.google.com.au ,www.google.co.nz ,www.as.com , www.namak.com are some of the least popular                websites"
   ]
  },
  {
   "cell_type": "markdown",
   "metadata": {},
   "source": [
    "### Correlation:"
   ]
  },
  {
   "cell_type": "code",
   "execution_count": 45,
   "metadata": {},
   "outputs": [
    {
     "data": {
      "text/plain": [
       "0.9618275802295062"
      ]
     },
     "execution_count": 45,
     "metadata": {},
     "output_type": "execute_result"
    }
   ],
   "source": [
    "df['Avg_Daily_Visitors'].corr(df['Avg_Daily_Pageviews'])"
   ]
  },
  {
   "cell_type": "code",
   "execution_count": 43,
   "metadata": {},
   "outputs": [
    {
     "data": {
      "text/plain": [
       "0.8123506481598187"
      ]
     },
     "execution_count": 43,
     "metadata": {},
     "output_type": "execute_result"
    }
   ],
   "source": [
    "df['Social_media_interaction'].corr(df['Avg_Daily_Visitors'])"
   ]
  },
  {
   "cell_type": "code",
   "execution_count": 42,
   "metadata": {},
   "outputs": [
    {
     "data": {
      "text/plain": [
       "0.7507993747270986"
      ]
     },
     "execution_count": 42,
     "metadata": {},
     "output_type": "execute_result"
    }
   ],
   "source": [
    "df['Avg_Daily_Pageviews'].corr(df['Social_media_interaction'])"
   ]
  },
  {
   "cell_type": "markdown",
   "metadata": {},
   "source": [
    "#### Inference:\n",
    "                All the columns are positivly correlated to each other."
   ]
  },
  {
   "cell_type": "markdown",
   "metadata": {},
   "source": [
    "# For column Social media interaction"
   ]
  },
  {
   "cell_type": "code",
   "execution_count": 46,
   "metadata": {},
   "outputs": [
    {
     "name": "stdout",
     "output_type": "stream",
     "text": [
      "Null hypothesis accepted\n",
      "Accepted hypothesis is H0: The average social meadia interaction is 2 million(mu=2e6)\n",
      "z_score= -9.1736401580\n",
      "p_value= 1.0000000000\n",
      "sample_mean= 1577274.1060760787\n",
      "sample_sd= 4078579.5199740939\n",
      "The test is 2 tailed test\n"
     ]
    }
   ],
   "source": [
    "\n",
    "number_of_values=len(df)\n",
    "sample_data=df[\"Social_media_interaction\"]\n",
    "sample_mean=statistics.mean(sample_data)\n",
    "sample_sd=statistics.stdev(sample_data)\n",
    "\n",
    "#Hypothesis\n",
    "#Null hypothesis\n",
    "\n",
    "#H0:The average social media interaction is 2 million(mu=2e6) \n",
    "H0=\"The average social meadia interaction is 2 million(mu=2e6)\"\n",
    "\n",
    "#Alternate hypothesis\n",
    "#H1:The average social meadia interaction is not equal to 2 million(mu!=2e6)\n",
    "H1=\"The average social meadia interaction is not equal to 2 million(mu!=2e6)\"\n",
    "\n",
    "population_mean_from_hypothesis=2e6  \n",
    "\n",
    "#Determining if the test is one tailed or two tailed and alloting alpha value\n",
    "test=\"two_sided_test\"\n",
    "if(test==\"two_sided_test\"):\n",
    "    number_of_tails=2\n",
    "    alpha=0.025\n",
    "elif(test==\"one_sided_test\"):\n",
    "    number_of_tails=1\n",
    "    alpha=0.05\n",
    "    \n",
    "#z_score\n",
    "z_score=(sample_mean-population_mean_from_hypothesis) /(sample_sd/np.sqrt(number_of_values))\n",
    "#p_value\n",
    "p_value=stats.norm.sf(z_score)\n",
    "\n",
    "if (p_value > alpha):\n",
    "    print(\"Null hypothesis accepted\")\n",
    "    print(\"Accepted hypothesis is H0:\",H0)\n",
    "    \n",
    "else:\n",
    "    print(\"Null hypothesis is rejected and alternate hypothesis is accepted\")\n",
    "    print(\"Accepted hypothesis is H1:\",H1)\n",
    "\n",
    "    \n",
    "print('z_score= %.10f' % (z_score))\n",
    "print('p_value= %.10f' % (p_value))\n",
    "print('sample_mean= %.10f' % (sample_mean))\n",
    "print('sample_sd= %.10f' % (sample_sd))\n",
    "print('The test is '+str(number_of_tails)+\" tailed test\")"
   ]
  },
  {
   "cell_type": "markdown",
   "metadata": {},
   "source": [
    "# For column Avg daily previews"
   ]
  },
  {
   "cell_type": "code",
   "execution_count": 47,
   "metadata": {},
   "outputs": [
    {
     "name": "stdout",
     "output_type": "stream",
     "text": [
      "Null hypothesis accepted\n",
      "Accepted hypothesis is H0: The average daily previews is 250 million(mu=2.5e8)\n",
      "z_score= 1.4682603522\n",
      "p_value= 0.0710167581\n",
      "sample_mean= 262637086.5693132579\n",
      "sample_sd= 761790710.7976064682\n",
      "The test is 1 tailed test\n"
     ]
    }
   ],
   "source": [
    "\n",
    "number_of_values=len(df)\n",
    "sample_data=df[\"Avg_Daily_Pageviews\"]\n",
    "sample_mean=df[\"Avg_Daily_Pageviews\"].mean()\n",
    "sample_sd=df[\"Avg_Daily_Pageviews\"].std()\n",
    "\n",
    "#Hypothesis\n",
    "#Null hypothesis\n",
    "\n",
    "#H0:The average daily previews is 250 million(mu=2.5e8) \n",
    "H0=\"The average daily previews is 250 million(mu=2.5e8)\"\n",
    "\n",
    "#Alternate hypothesis\n",
    "#H1:The average daily previews is not equal to 250 million(mu!=2.5e8)\n",
    "H1=\"The average daily previews is not equal to 250 million(mu!=2.5e8)\"\n",
    "\n",
    "#Determining if the test is one tailed or two tailed and alloting alpha value\n",
    "test=\"one_sided_test\"\n",
    "if(test==\"two_sided_test\"):\n",
    "    number_of_tails=2\n",
    "    alpha=0.025\n",
    "elif(test==\"one_sided_test\"):\n",
    "    number_of_tails=1\n",
    "    alpha=0.05\n",
    "    \n",
    "population_mean_from_hypothesis=2.5e8  \n",
    "\n",
    "#z_score\n",
    "z_score=(sample_mean-population_mean_from_hypothesis) /(sample_sd/np.sqrt(number_of_values))\n",
    "#p_value\n",
    "p_value=stats.norm.sf(z_score)\n",
    "\n",
    "if (p_value > alpha):\n",
    "    print(\"Null hypothesis accepted\")\n",
    "    print(\"Accepted hypothesis is H0:\",H0)\n",
    "else:\n",
    "    print(\"Null hypothesis is rejected and alternate hypothesis is accepted\")\n",
    "    print(\"Accepted hypothesis is H1:\",H1)    \n",
    "\n",
    "    \n",
    "print('z_score= %.10f' % (z_score))\n",
    "print('p_value= %.10f' % (p_value))\n",
    "print('sample_mean= %.10f' % (sample_mean))\n",
    "print('sample_sd= %.10f' % (sample_sd))\n",
    "print('The test is '+str(number_of_tails)+\" tailed test\")"
   ]
  },
  {
   "cell_type": "markdown",
   "metadata": {},
   "source": [
    "# For column Avg daily visitors"
   ]
  },
  {
   "cell_type": "code",
   "execution_count": 48,
   "metadata": {},
   "outputs": [
    {
     "name": "stdout",
     "output_type": "stream",
     "text": [
      "Null hypothesis is rejected and alternate hypothesis is accepted\n",
      "Accepted hypothesis is H1: The average daily visitors is not equal to 45 million(mu!=4.5e7)\n",
      "z_score= 2.5829140429\n",
      "p_value= 0.0048984864\n",
      "sample_mean= 48347829.5264232829\n",
      "sample_sd= 114721592.0974674225\n",
      "The test is 2 tailed test\n"
     ]
    }
   ],
   "source": [
    "number_of_values=len(df)\n",
    "sample_data=df[\"Avg_Daily_Visitors\"]\n",
    "sample_mean=statistics.mean(sample_data)\n",
    "sample_sd=statistics.stdev(sample_data)\n",
    "\n",
    "#Hypothesis\n",
    "#Null hypothesis\n",
    "\n",
    "#H0:The average daily visitors is 50 million(mu=5e7) \n",
    "H0=\"The average daily visitors is 50 million(mu=5e7)\"\n",
    "\n",
    "#Alternate hypothesis\n",
    "#H1:The average daily visitors is not equal to 45 million(mu!=4.5e7)\n",
    "H1=\"The average daily visitors is not equal to 45 million(mu!=4.5e7)\"\n",
    "\n",
    "#Determining if the test is one tailed or two tailed and alloting alpha value\n",
    "test=\"two_sided_test\"\n",
    "if(test==\"two_sided_test\"):\n",
    "    number_of_tails=2\n",
    "    alpha=0.025\n",
    "elif(test==\"one_sided_test\"):\n",
    "    number_of_tails=1\n",
    "    alpha=0.05\n",
    "    \n",
    "population_mean_from_hypothesis=4.5e7   \n",
    "\n",
    "#z_score\n",
    "z_score=(sample_mean-population_mean_from_hypothesis) /(sample_sd/np.sqrt(number_of_values))\n",
    "#p_value\n",
    "p_value=stats.norm.sf(z_score)\n",
    "\n",
    "if (p_value > alpha):\n",
    "    print(\"Null hypothesis accepted\")\n",
    "    print(\"Accepted hypothesis is H0:\",H0)\n",
    "else:\n",
    "    print(\"Null hypothesis is rejected and alternate hypothesis is accepted\")\n",
    "    print(\"Accepted hypothesis is H1:\",H1)    \n",
    "\n",
    "    \n",
    "print('z_score= %.10f' % (z_score))\n",
    "print('p_value= %.10f' % (p_value))\n",
    "print('sample_mean= %.10f' % (sample_mean))\n",
    "print('sample_sd= %.10f' % (sample_sd))\n",
    "print('The test is '+str(number_of_tails)+\" tailed test\")"
   ]
  },
  {
   "cell_type": "markdown",
   "metadata": {},
   "source": [
    "## Conclusion:\n",
    "        1.  Trustworthiness:\n",
    "            a. 71.61% of the websites have completly  gained over the trust of the users.\n",
    "            b. 12.33% of the websites have statisfied the users regarding trust.\n",
    "            c. 9.18 % of the websites have failed to gain the trust of it users i.e,they are poor or very poor or                   unsatisfactory\n",
    "        2.  Child safety:\n",
    "            a. 67.96% of the websites provide excellet child safety measures to keep the young underaged users safe and             avoiding misguidence\n",
    "            b. 9.28% of the websites provide good quality child safety yet it can imoroved.\n",
    "            c. 13.28 % of the websites have failed to provide child safety its users i.e,they are poor or very poor or             unsatisfactory and this often may miss lead younger generation.\n",
    "        3.  Privacy:\n",
    "            a. 71.61% of the websites provide excellet privacy and security measures to its users.\n",
    "            b. 12.33% of the websites provide good quality of security and privacy to its users.\n",
    "            c. 9.18% of the websites have failed to provide privacy to its users i.e the users are unsatisfied ragarding           privacy and say they are poor very poor or unsatisfactory.\n",
    "        4.  Location:\n",
    "              68.02% of the websites belongs to the Unites States(US) and rest percentange of the websites are spread across the globe.\n",
    "        5.  Hostedby:\n",
    "             CloudFlare-12.01%,Akamai Technologies-9.98%,Google-8.94%,Microsoft Corporation-5.38%,Amazon Technologies-4.21% are the major server providers.\n",
    "        6.  Popularity:\n",
    "            a. www.google.com is the most popular website among the websites as the appear the most in the top 10 ranked websites with most appearances in top 10 rank accross the countries\n",
    "            b. www.youtube.com  is the second most popular website followed by www.facebook.com,www.wikipedia.org,www.yahoo.com\n",
    "            c. www.google.hr , www.google.com.au , www.google.co.nz , www.as.com , www.namnak.com are some of least popular websites.  "
   ]
  },
  {
   "cell_type": "code",
   "execution_count": null,
   "metadata": {},
   "outputs": [],
   "source": []
  }
 ],
 "metadata": {
  "kernelspec": {
   "display_name": "Python 3",
   "language": "python",
   "name": "python3"
  },
  "language_info": {
   "codemirror_mode": {
    "name": "ipython",
    "version": 3
   },
   "file_extension": ".py",
   "mimetype": "text/x-python",
   "name": "python",
   "nbconvert_exporter": "python",
   "pygments_lexer": "ipython3",
   "version": "3.8.3"
  }
 },
 "nbformat": 4,
 "nbformat_minor": 4
}
